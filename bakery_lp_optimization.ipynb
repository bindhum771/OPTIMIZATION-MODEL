{
 "cells": [
  {
   "cell_type": "markdown",
   "metadata": {},
   "source": [
    "# 🧁 Bakery Production Optimization using Linear Programming & PuLP\n",
    "\n",
    "In this notebook, we solve a business problem: maximizing profit from cakes & cookies production, given resource constraints."
   ]
  },
  {
   "cell_type": "markdown",
   "metadata": {},
   "source": [
    "## 🎯 Problem Statement\n",
    "- A bakery produces **cakes** and **cookies**.\n",
    "- Each has profit & consumes oven & chef time.\n",
    "\n",
    "|              | Cake | Cookie | Available |\n",
    "|--------------|------|--------|-----------|\n",
    "| Profit ($)   | 40   | 30     | -         |\n",
    "| Oven time (min) | 45  | 15     | 900       |\n",
    "| Chef time (min) | 30  | 20     | 600       |\n",
    "\n",
    "**Goal:** Maximize profit under these constraints."
   ]
  },
  {
   "cell_type": "code",
   "execution_count": null,
   "metadata": {},
   "outputs": [],
   "source": [
    "# ✅ Install PuLP if not installed\n",
    "# !pip install pulp matplotlib"
   ]
  },
  {
   "cell_type": "markdown",
   "metadata": {},
   "source": [
    "## ✏️ Formulate LP\n",
    "**Variables:**\n",
    "- x: number of cakes\n",
    "- y: number of cookies\n",
    "\n",
    "**Objective:**\n",
    "Maximize 40x + 30y\n",
    "\n",
    "**Constraints:**\n",
    "- 45x + 15y <= 900 (oven time)\n",
    "- 30x + 20y <= 600 (chef time)\n",
    "- x,y >= 0"
   ]
  },
  {
   "cell_type": "code",
   "execution_count": null,
   "metadata": {},
   "outputs": [],
   "source": [
    "from pulp import LpMaximize, LpProblem, LpVariable, value\n",
    "\n",
    "# Create model\n",
    "model = LpProblem(name=\"bakery-production\", sense=LpMaximize)\n",
    "\n",
    "# Decision variables\n",
    "x = LpVariable(name=\"cakes\", lowBound=0, cat='Continuous')\n",
    "y = LpVariable(name=\"cookies\", lowBound=0, cat='Continuous')\n",
    "\n",
    "# Objective\n",
    "model += 40*x + 30*y, \"Total Profit\"\n",
    "\n",
    "# Constraints\n",
    "model += 45*x + 15*y <= 900, \"Oven time constraint\"\n",
    "model += 30*x + 20*y <= 600, \"Chef time constraint\"\n",
    "\n",
    "# Solve\n",
    "model.solve()"
   ]
  },
  {
   "cell_type": "code",
   "execution_count": null,
   "metadata": {},
   "outputs": [],
   "source": [
    "# 📊 Results\n",
    "print(f\"Number of cakes to produce: {x.value():.2f}\")\n",
    "print(f\"Number of cookies to produce: {y.value():.2f}\")\n",
    "print(f\"Maximum profit: ${value(model.objective):.2f}\")"
   ]
  },
  {
   "cell_type": "markdown",
   "metadata": {},
   "source": [
    "## 📈 Visualize feasible region & optimal solution"
   ]
  },
  {
   "cell_type": "code",
   "execution_count": null,
   "metadata": {},
   "outputs": [],
   "source": [
    "import matplotlib.pyplot as plt\n",
    "import numpy as np\n",
    "\n",
    "x_vals = np.linspace(0, 25, 200)\n",
    "oven_line = (900 - 45*x_vals)/15\n",
    "chef_line = (600 - 30*x_vals)/20\n",
    "\n",
    "plt.figure(figsize=(8,6))\n",
    "plt.plot(x_vals, oven_line, label='Oven constraint')\n",
    "plt.plot(x_vals, chef_line, label='Chef constraint')\n",
    "\n",
    "y1 = np.minimum(oven_line, chef_line)\n",
    "y1 = np.maximum(y1, 0)\n",
    "plt.fill_between(x_vals, y1, color='lightgreen', alpha=0.3, label='Feasible region')\n",
    "\n",
    "plt.plot(x.value(), y.value(), 'ro', label='Optimal solution')\n",
    "plt.text(x.value()+0.5, y.value(), f\"({x.value():.1f}, {y.value():.1f})\")\n",
    "\n",
    "plt.xlabel('Number of cakes')\n",
    "plt.ylabel('Number of cookies')\n",
    "plt.title('Feasible region & optimal solution')\n",
    "plt.legend()\n",
    "plt.grid(True)\n",
    "plt.show()"
   ]
  },
  {
   "cell_type": "markdown",
   "metadata": {},
   "source": [
    "✅ **Conclusion:** We determined the optimal production mix to maximize profit while respecting resource limits!"
   ]
  }
 ],
 "metadata": {
  "kernelspec": {
   "display_name": "Python 3",
   "language": "python",
   "name": "python3"
  },
  "language_info": {
   "name": "python",
   "version": "3.8"
  }
 },
 "nbformat": 4,
 "nbformat_minor": 2
}